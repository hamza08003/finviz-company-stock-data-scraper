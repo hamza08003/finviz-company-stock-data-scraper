{
 "cells": [
  {
   "cell_type": "code",
   "execution_count": 139,
   "metadata": {},
   "outputs": [],
   "source": [
    "from selenium import webdriver\n",
    "from selenium.webdriver.common.by import By\n",
    "from selenium.webdriver.support import expected_conditions as EC\n",
    "from selenium.webdriver.support.ui import Select\n",
    "import time\n",
    "from bs4 import BeautifulSoup\n",
    "import pandas as pd\n",
    "import os"
   ]
  },
  {
   "cell_type": "code",
   "execution_count": 140,
   "metadata": {},
   "outputs": [],
   "source": [
    "driver = webdriver.Chrome()"
   ]
  },
  {
   "cell_type": "code",
   "execution_count": 141,
   "metadata": {},
   "outputs": [],
   "source": [
    "driver.get('https://finviz.com/screener.ashx')"
   ]
  },
  {
   "cell_type": "code",
   "execution_count": 142,
   "metadata": {},
   "outputs": [],
   "source": [
    "# Locate the custom_button_element using its XPath and click on it\n",
    "custom_button_element = driver.find_element(By.XPATH, '//td[@class=\"screener-view-button\"]/a[text()=\"Custom\"]')\n",
    "custom_button_element.click()"
   ]
  },
  {
   "cell_type": "code",
   "execution_count": 143,
   "metadata": {},
   "outputs": [],
   "source": [
    "# Locate all the radio elements and click on them to uncheck them\n",
    "radio_buttons_to_toggle = [[2, 1], [2, 5], [2, 6], [2, 7], [2, 8], [2, 9], [8, 7]]\n",
    "# Unchecking/Checking\n",
    "for i in radio_buttons_to_toggle:   \n",
    "    element = driver.find_element(By.XPATH, f'//table[@class=\"screener-groups_settings-table is-custom\"]/tbody/tr[{i[0]}]/td[{i[1]}]')\n",
    "    element.click()\n"
   ]
  },
  {
   "cell_type": "code",
   "execution_count": 144,
   "metadata": {},
   "outputs": [],
   "source": [
    "filters = driver.find_element(By.CSS_SELECTOR, 'a[href=\"screener.ashx?v=151\"]')\n",
    "filters.click()"
   ]
  },
  {
   "cell_type": "code",
   "execution_count": 145,
   "metadata": {},
   "outputs": [],
   "source": [
    "relative_vol = driver.find_element(By.ID, \"fs_sh_relvol\")\n",
    "Select(relative_vol).select_by_index(1)"
   ]
  },
  {
   "cell_type": "code",
   "execution_count": 146,
   "metadata": {},
   "outputs": [],
   "source": [
    "\n",
    "relative_vol = driver.find_element(By.ID, \"fs_sh_curvol\")\n",
    "Select(relative_vol).select_by_index(14)"
   ]
  },
  {
   "cell_type": "code",
   "execution_count": 147,
   "metadata": {},
   "outputs": [],
   "source": [
    "# Finding the <td> element with the ID 'screener_pagination'\n",
    "td_element = driver.find_element(By.ID, \"screener_pagination\")\n",
    "\n",
    "# Finding all <a> tags within the <td> element\n",
    "a_tags = td_element.find_elements(By.TAG_NAME, \"a\")\n",
    "\n",
    "# Initializing a variable to store the total length\n",
    "total_length = 0\n",
    "\n",
    "# Iterating through each <a> tag until the one with class 'is-next' is encountered\n",
    "for a_tag in a_tags:\n",
    "    # Exclude the <a> tag with class 'is-next'\n",
    "    if 'is-next' not in a_tag.get_attribute('class'):\n",
    "        # Add the length of the current <a> tag to the total length\n",
    "        total_length += len(a_tag.text)"
   ]
  },
  {
   "cell_type": "code",
   "execution_count": 148,
   "metadata": {},
   "outputs": [],
   "source": [
    "tabele_no = 1\n",
    "\n",
    "# Find the table element\n",
    "table_element = driver.find_element(By.CLASS_NAME, 'styled-table-new')\n",
    "\n",
    "# Get the HTML content of the table\n",
    "table_html = table_element.get_attribute('outerHTML')\n",
    "\n",
    "# Find the next button element\n",
    "next_button = driver.find_element(By.CSS_SELECTOR, 'a.screener-pages.is-next')\n",
    "\n",
    "# Save the HTML content of the first page as a text file\n",
    "with open(f'table_data_{tabele_no}.txt', 'w') as file:\n",
    "    file.write(table_html)\n",
    "\n",
    "# Loop through the pages a number of times based on the total length\n",
    "for _ in range(total_length - 1):\n",
    "    # Click on the next button\n",
    "    next_button.click()\n",
    "    time.sleep(5)  # Wait for the page to load\n",
    "\n",
    "    tabele_no += 1\n",
    "\n",
    "    # Find the table element\n",
    "    table_element = driver.find_element(By.CLASS_NAME, 'styled-table-new')\n",
    "\n",
    "    # Get the HTML content of the current page\n",
    "    table_html = table_element.get_attribute('outerHTML')\n",
    "\n",
    "    # Save the HTML content of the current page as a text file\n",
    "    with open(f'table_data_{tabele_no}.txt', 'w') as file:\n",
    "        file.write(table_html)\n",
    "\n",
    "    # Check if there is a next button\n",
    "    next_button = driver.find_element(By.CSS_SELECTOR, 'a.screener-pages.is-next') if driver.find_elements(By.CSS_SELECTOR, 'a.screener-pages.is-next') else None"
   ]
  },
  {
   "cell_type": "code",
   "execution_count": 149,
   "metadata": {},
   "outputs": [],
   "source": [
    "# Initialize an empty list to store individual DataFrames\n",
    "dfs = []\n",
    "\n",
    "# Iterate through all the text files\n",
    "for tabele_no in range(1, total_length + 1):\n",
    "    # Read the contents of the data table file\n",
    "    file_path = f'table_data_{tabele_no}.txt'\n",
    "    if os.path.exists(file_path):\n",
    "        with open(file_path, 'r') as file:\n",
    "            content = file.read()\n",
    "\n",
    "        # Parse the HTML content\n",
    "        soup = BeautifulSoup(content, 'html.parser')\n",
    "\n",
    "        # Find the table rows\n",
    "        rows = soup.find_all('tr')\n",
    "\n",
    "        # Extract the data from the table\n",
    "        data = []\n",
    "        for row in rows:\n",
    "            columns = row.find_all('td')\n",
    "            if columns:\n",
    "                ticker = columns[0].text.strip()\n",
    "                company = columns[1].text.strip()\n",
    "                high_52w = columns[2].text.strip()\n",
    "                volume = columns[3].text.strip()\n",
    "                price = columns[4].text.strip()\n",
    "                change = columns[5].text.strip()\n",
    "                data.append({\n",
    "                    'Ticker': ticker,\n",
    "                    'Company': company,\n",
    "                    '52W High': high_52w,\n",
    "                    'Volume': volume,\n",
    "                    'Price': price,\n",
    "                    'Change': change\n",
    "                })\n",
    "\n",
    "        # Convert the data into a DataFrame\n",
    "        df = pd.DataFrame(data)\n",
    "\n",
    "        # Append the DataFrame to the list\n",
    "        dfs.append(df)\n",
    "\n",
    "        # Remove the text file\n",
    "        os.remove(file_path)\n",
    "\n",
    "# Concatenate all DataFrames in the list into a single DataFrame\n",
    "combined_df = pd.concat(dfs, ignore_index=True)\n",
    "\n",
    "# Write the combined DataFrame to an Excel file\n",
    "combined_df.to_excel('output.xlsx', index=False)\n"
   ]
  }
 ],
 "metadata": {
  "kernelspec": {
   "display_name": "Python 3",
   "language": "python",
   "name": "python3"
  },
  "language_info": {
   "codemirror_mode": {
    "name": "ipython",
    "version": 3
   },
   "file_extension": ".py",
   "mimetype": "text/x-python",
   "name": "python",
   "nbconvert_exporter": "python",
   "pygments_lexer": "ipython3",
   "version": "3.12.0"
  }
 },
 "nbformat": 4,
 "nbformat_minor": 2
}
